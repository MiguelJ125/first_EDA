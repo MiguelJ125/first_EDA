{
  "nbformat": 4,
  "nbformat_minor": 0,
  "metadata": {
    "colab": {
      "name": "first_EDA.ipynb",
      "provenance": []
    },
    "kernelspec": {
      "name": "python3",
      "display_name": "Python 3"
    },
    "language_info": {
      "name": "python"
    }
  },
  "cells": [
    {
      "cell_type": "code",
      "metadata": {
        "colab": {
          "base_uri": "https://localhost:8080/"
        },
        "id": "efJIadG__KX7",
        "outputId": "8d1ad5a8-3739-4841-9a1d-0f17254af834"
      },
      "source": [
        "import pandas as pd\n",
        "import numpy as np\n",
        "import matplotlib.pyplot as plt\n",
        "import statsmodels.api as sm"
      ],
      "execution_count": 1,
      "outputs": [
        {
          "output_type": "stream",
          "name": "stderr",
          "text": [
            "/usr/local/lib/python3.7/dist-packages/statsmodels/tools/_testing.py:19: FutureWarning: pandas.util.testing is deprecated. Use the functions in the public API at pandas.testing instead.\n",
            "  import pandas.util.testing as tm\n"
          ]
        }
      ]
    },
    {
      "cell_type": "code",
      "metadata": {
        "colab": {
          "base_uri": "https://localhost:8080/"
        },
        "id": "8hSkAK3E_f5D",
        "outputId": "aab1eb42-9744-415a-84b1-8a6714e7c1f2"
      },
      "source": [
        "url = 'https://raw.githubusercontent.com/lorey/list-of-countries/master/csv/countries.csv'\n",
        "df = pd.read_csv(url, sep=\";\") #index_col=0\n",
        "print(df.head(5))"
      ],
      "execution_count": 2,
      "outputs": [
        {
          "output_type": "stream",
          "name": "stdout",
          "text": [
            "  alpha_2 alpha_3      area  ... postal_code_format postal_code_regex  tld\n",
            "0      AD     AND     468.0  ...              AD###  ^(?:AD)*(\\d{3})$  .ad\n",
            "1      AE     ARE   82880.0  ...                NaN               NaN  .ae\n",
            "2      AF     AFG  647500.0  ...                NaN               NaN  .af\n",
            "3      AG     ATG     443.0  ...                NaN               NaN  .ag\n",
            "4      AI     AIA     102.0  ...                NaN               NaN  .ai\n",
            "\n",
            "[5 rows x 19 columns]\n"
          ]
        }
      ]
    },
    {
      "cell_type": "code",
      "metadata": {
        "colab": {
          "base_uri": "https://localhost:8080/"
        },
        "id": "fSGUm-1m_pFe",
        "outputId": "ecc68dfe-8eda-4710-be97-2f7879618dde"
      },
      "source": [
        "print('Cantidad de Filas y columnas:',df.shape)\n",
        "print('Nombre columnas:',df.columns)"
      ],
      "execution_count": 3,
      "outputs": [
        {
          "output_type": "stream",
          "name": "stdout",
          "text": [
            "Cantidad de Filas y columnas: (252, 19)\n",
            "Nombre columnas: Index(['alpha_2', 'alpha_3', 'area', 'capital', 'continent', 'currency_code',\n",
            "       'currency_name', 'eqivalent_fips_code', 'fips', 'geoname_id',\n",
            "       'languages', 'name', 'neighbours', 'numeric', 'phone', 'population',\n",
            "       'postal_code_format', 'postal_code_regex', 'tld'],\n",
            "      dtype='object')\n"
          ]
        }
      ]
    },
    {
      "cell_type": "code",
      "metadata": {
        "colab": {
          "base_uri": "https://localhost:8080/"
        },
        "id": "x6Up0XMU_tVR",
        "outputId": "efbc6495-ec45-4418-b6af-173395188275"
      },
      "source": [
        "df.info()"
      ],
      "execution_count": 4,
      "outputs": [
        {
          "output_type": "stream",
          "name": "stdout",
          "text": [
            "<class 'pandas.core.frame.DataFrame'>\n",
            "RangeIndex: 252 entries, 0 to 251\n",
            "Data columns (total 19 columns):\n",
            " #   Column               Non-Null Count  Dtype  \n",
            "---  ------               --------------  -----  \n",
            " 0   alpha_2              251 non-null    object \n",
            " 1   alpha_3              252 non-null    object \n",
            " 2   area                 252 non-null    float64\n",
            " 3   capital              246 non-null    object \n",
            " 4   continent            210 non-null    object \n",
            " 5   currency_code        251 non-null    object \n",
            " 6   currency_name        251 non-null    object \n",
            " 7   eqivalent_fips_code  1 non-null      object \n",
            " 8   fips                 249 non-null    object \n",
            " 9   geoname_id           252 non-null    int64  \n",
            " 10  languages            249 non-null    object \n",
            " 11  name                 252 non-null    object \n",
            " 12  neighbours           165 non-null    object \n",
            " 13  numeric              252 non-null    int64  \n",
            " 14  phone                247 non-null    object \n",
            " 15  population           252 non-null    int64  \n",
            " 16  postal_code_format   154 non-null    object \n",
            " 17  postal_code_regex    152 non-null    object \n",
            " 18  tld                  250 non-null    object \n",
            "dtypes: float64(1), int64(3), object(15)\n",
            "memory usage: 37.5+ KB\n"
          ]
        }
      ]
    },
    {
      "cell_type": "code",
      "metadata": {
        "colab": {
          "base_uri": "https://localhost:8080/",
          "height": 294
        },
        "id": "SYHUgUa9_usa",
        "outputId": "e2a43b75-51ab-4ded-fa3a-ebc1cd5a4fb3"
      },
      "source": [
        "df.describe()"
      ],
      "execution_count": 5,
      "outputs": [
        {
          "output_type": "execute_result",
          "data": {
            "text/html": [
              "<div>\n",
              "<style scoped>\n",
              "    .dataframe tbody tr th:only-of-type {\n",
              "        vertical-align: middle;\n",
              "    }\n",
              "\n",
              "    .dataframe tbody tr th {\n",
              "        vertical-align: top;\n",
              "    }\n",
              "\n",
              "    .dataframe thead th {\n",
              "        text-align: right;\n",
              "    }\n",
              "</style>\n",
              "<table border=\"1\" class=\"dataframe\">\n",
              "  <thead>\n",
              "    <tr style=\"text-align: right;\">\n",
              "      <th></th>\n",
              "      <th>area</th>\n",
              "      <th>geoname_id</th>\n",
              "      <th>numeric</th>\n",
              "      <th>population</th>\n",
              "    </tr>\n",
              "  </thead>\n",
              "  <tbody>\n",
              "    <tr>\n",
              "      <th>count</th>\n",
              "      <td>2.520000e+02</td>\n",
              "      <td>2.520000e+02</td>\n",
              "      <td>252.000000</td>\n",
              "      <td>2.520000e+02</td>\n",
              "    </tr>\n",
              "    <tr>\n",
              "      <th>mean</th>\n",
              "      <td>5.952879e+05</td>\n",
              "      <td>2.427870e+06</td>\n",
              "      <td>434.309524</td>\n",
              "      <td>2.727679e+07</td>\n",
              "    </tr>\n",
              "    <tr>\n",
              "      <th>std</th>\n",
              "      <td>1.904818e+06</td>\n",
              "      <td>1.632093e+06</td>\n",
              "      <td>254.663139</td>\n",
              "      <td>1.164127e+08</td>\n",
              "    </tr>\n",
              "    <tr>\n",
              "      <th>min</th>\n",
              "      <td>0.000000e+00</td>\n",
              "      <td>4.951800e+04</td>\n",
              "      <td>0.000000</td>\n",
              "      <td>0.000000e+00</td>\n",
              "    </tr>\n",
              "    <tr>\n",
              "      <th>25%</th>\n",
              "      <td>1.098000e+03</td>\n",
              "      <td>1.163774e+06</td>\n",
              "      <td>217.000000</td>\n",
              "      <td>1.879528e+05</td>\n",
              "    </tr>\n",
              "    <tr>\n",
              "      <th>50%</th>\n",
              "      <td>6.489450e+04</td>\n",
              "      <td>2.367967e+06</td>\n",
              "      <td>436.000000</td>\n",
              "      <td>4.268583e+06</td>\n",
              "    </tr>\n",
              "    <tr>\n",
              "      <th>75%</th>\n",
              "      <td>3.622245e+05</td>\n",
              "      <td>3.478296e+06</td>\n",
              "      <td>652.500000</td>\n",
              "      <td>1.536688e+07</td>\n",
              "    </tr>\n",
              "    <tr>\n",
              "      <th>max</th>\n",
              "      <td>1.710000e+07</td>\n",
              "      <td>8.505033e+06</td>\n",
              "      <td>894.000000</td>\n",
              "      <td>1.330044e+09</td>\n",
              "    </tr>\n",
              "  </tbody>\n",
              "</table>\n",
              "</div>"
            ],
            "text/plain": [
              "               area    geoname_id     numeric    population\n",
              "count  2.520000e+02  2.520000e+02  252.000000  2.520000e+02\n",
              "mean   5.952879e+05  2.427870e+06  434.309524  2.727679e+07\n",
              "std    1.904818e+06  1.632093e+06  254.663139  1.164127e+08\n",
              "min    0.000000e+00  4.951800e+04    0.000000  0.000000e+00\n",
              "25%    1.098000e+03  1.163774e+06  217.000000  1.879528e+05\n",
              "50%    6.489450e+04  2.367967e+06  436.000000  4.268583e+06\n",
              "75%    3.622245e+05  3.478296e+06  652.500000  1.536688e+07\n",
              "max    1.710000e+07  8.505033e+06  894.000000  1.330044e+09"
            ]
          },
          "metadata": {},
          "execution_count": 5
        }
      ]
    },
    {
      "cell_type": "code",
      "metadata": {
        "colab": {
          "base_uri": "https://localhost:8080/",
          "height": 296
        },
        "id": "Up5litSK_v-8",
        "outputId": "0197633f-7acd-4445-bb28-68cbf546706e"
      },
      "source": [
        "corr = df.set_index('alpha_3').corr()\n",
        "sm.graphics.plot_corr(corr, xnames=list(corr.columns))\n",
        "plt.show()"
      ],
      "execution_count": 6,
      "outputs": [
        {
          "output_type": "display_data",
          "data": {
            "image/png": "[encoded data removed]",
            "text/plain": [
              "<Figure size 432x288 with 2 Axes>"
            ]
          },
          "metadata": {
            "needs_background": "light"
          }
        }
      ]
    },
    {
      "cell_type": "code",
      "metadata": {
        "colab": {
          "base_uri": "https://localhost:8080/"
        },
        "id": "3jjVg1do_xB2",
        "outputId": "ae05b44c-3bff-46ef-f0d5-e75499b04d01"
      },
      "source": [
        "url = 'https://raw.githubusercontent.com/DrueStaples/Population_Growth/master/countries.csv'\n",
        "df_pop = pd.read_csv(url)\n",
        "print(df_pop.head(5))"
      ],
      "execution_count": 7,
      "outputs": [
        {
          "output_type": "stream",
          "name": "stdout",
          "text": [
            "       country  year  population\n",
            "0  Afghanistan  1952     8425333\n",
            "1  Afghanistan  1957     9240934\n",
            "2  Afghanistan  1962    10267083\n",
            "3  Afghanistan  1967    11537966\n",
            "4  Afghanistan  1972    13079460\n"
          ]
        }
      ]
    },
    {
      "cell_type": "code",
      "metadata": {
        "colab": {
          "base_uri": "https://localhost:8080/",
          "height": 202
        },
        "id": "GjK3RhLT_yA4",
        "outputId": "be6d9462-8741-4d92-8fee-46bfce614196"
      },
      "source": [
        "df_pop_es = df_pop[df_pop[\"country\"] == 'Spain' ]\n",
        "df_pop_es.head()"
      ],
      "execution_count": 8,
      "outputs": [
        {
          "output_type": "execute_result",
          "data": {
            "text/html": [
              "<div>\n",
              "<style scoped>\n",
              "    .dataframe tbody tr th:only-of-type {\n",
              "        vertical-align: middle;\n",
              "    }\n",
              "\n",
              "    .dataframe tbody tr th {\n",
              "        vertical-align: top;\n",
              "    }\n",
              "\n",
              "    .dataframe thead th {\n",
              "        text-align: right;\n",
              "    }\n",
              "</style>\n",
              "<table border=\"1\" class=\"dataframe\">\n",
              "  <thead>\n",
              "    <tr style=\"text-align: right;\">\n",
              "      <th></th>\n",
              "      <th>country</th>\n",
              "      <th>year</th>\n",
              "      <th>population</th>\n",
              "    </tr>\n",
              "  </thead>\n",
              "  <tbody>\n",
              "    <tr>\n",
              "      <th>1416</th>\n",
              "      <td>Spain</td>\n",
              "      <td>1952</td>\n",
              "      <td>28549870</td>\n",
              "    </tr>\n",
              "    <tr>\n",
              "      <th>1417</th>\n",
              "      <td>Spain</td>\n",
              "      <td>1957</td>\n",
              "      <td>29841614</td>\n",
              "    </tr>\n",
              "    <tr>\n",
              "      <th>1418</th>\n",
              "      <td>Spain</td>\n",
              "      <td>1962</td>\n",
              "      <td>31158061</td>\n",
              "    </tr>\n",
              "    <tr>\n",
              "      <th>1419</th>\n",
              "      <td>Spain</td>\n",
              "      <td>1967</td>\n",
              "      <td>32850275</td>\n",
              "    </tr>\n",
              "    <tr>\n",
              "      <th>1420</th>\n",
              "      <td>Spain</td>\n",
              "      <td>1972</td>\n",
              "      <td>34513161</td>\n",
              "    </tr>\n",
              "  </tbody>\n",
              "</table>\n",
              "</div>"
            ],
            "text/plain": [
              "     country  year  population\n",
              "1416   Spain  1952    28549870\n",
              "1417   Spain  1957    29841614\n",
              "1418   Spain  1962    31158061\n",
              "1419   Spain  1967    32850275\n",
              "1420   Spain  1972    34513161"
            ]
          },
          "metadata": {},
          "execution_count": 8
        }
      ]
    },
    {
      "cell_type": "code",
      "metadata": {
        "colab": {
          "base_uri": "https://localhost:8080/"
        },
        "id": "tK-_Rw9S_zEW",
        "outputId": "b0897e73-fbae-4dbe-a2af-59dbe5f4c6bf"
      },
      "source": [
        "df_pop_es.shape"
      ],
      "execution_count": 9,
      "outputs": [
        {
          "output_type": "execute_result",
          "data": {
            "text/plain": [
              "(12, 3)"
            ]
          },
          "metadata": {},
          "execution_count": 9
        }
      ]
    },
    {
      "cell_type": "code",
      "metadata": {
        "colab": {
          "base_uri": "https://localhost:8080/",
          "height": 310
        },
        "id": "5vm3Jn2w_0Q5",
        "outputId": "e51e5d4e-0f45-410b-dee3-debe11eb87d8"
      },
      "source": [
        "df_pop_es.drop(['country'],axis=1)['population'].plot(kind='bar')"
      ],
      "execution_count": 10,
      "outputs": [
        {
          "output_type": "execute_result",
          "data": {
            "text/plain": [
              "<matplotlib.axes._subplots.AxesSubplot at 0x7fcb09350890>"
            ]
          },
          "metadata": {},
          "execution_count": 10
        },
        {
          "output_type": "display_data",
          "data": {
            "image/png": "[encoded data removed]",
            "text/plain": [
              "<Figure size 432x288 with 1 Axes>"
            ]
          },
          "metadata": {
            "needs_background": "light"
          }
        }
      ]
    },
    {
      "cell_type": "code",
      "metadata": {
        "colab": {
          "base_uri": "https://localhost:8080/",
          "height": 202
        },
        "id": "Fj54hNC2_1V8",
        "outputId": "b743578e-e4a2-4f8e-9cbd-cf2ed498a176"
      },
      "source": [
        "df_pop_ar = df_pop[(df_pop[\"country\"] == 'Argentina')]\n",
        "df_pop_ar.head()"
      ],
      "execution_count": 11,
      "outputs": [
        {
          "output_type": "execute_result",
          "data": {
            "text/html": [
              "<div>\n",
              "<style scoped>\n",
              "    .dataframe tbody tr th:only-of-type {\n",
              "        vertical-align: middle;\n",
              "    }\n",
              "\n",
              "    .dataframe tbody tr th {\n",
              "        vertical-align: top;\n",
              "    }\n",
              "\n",
              "    .dataframe thead th {\n",
              "        text-align: right;\n",
              "    }\n",
              "</style>\n",
              "<table border=\"1\" class=\"dataframe\">\n",
              "  <thead>\n",
              "    <tr style=\"text-align: right;\">\n",
              "      <th></th>\n",
              "      <th>country</th>\n",
              "      <th>year</th>\n",
              "      <th>population</th>\n",
              "    </tr>\n",
              "  </thead>\n",
              "  <tbody>\n",
              "    <tr>\n",
              "      <th>48</th>\n",
              "      <td>Argentina</td>\n",
              "      <td>1952</td>\n",
              "      <td>17876956</td>\n",
              "    </tr>\n",
              "    <tr>\n",
              "      <th>49</th>\n",
              "      <td>Argentina</td>\n",
              "      <td>1957</td>\n",
              "      <td>19610538</td>\n",
              "    </tr>\n",
              "    <tr>\n",
              "      <th>50</th>\n",
              "      <td>Argentina</td>\n",
              "      <td>1962</td>\n",
              "      <td>21283783</td>\n",
              "    </tr>\n",
              "    <tr>\n",
              "      <th>51</th>\n",
              "      <td>Argentina</td>\n",
              "      <td>1967</td>\n",
              "      <td>22934225</td>\n",
              "    </tr>\n",
              "    <tr>\n",
              "      <th>52</th>\n",
              "      <td>Argentina</td>\n",
              "      <td>1972</td>\n",
              "      <td>24779799</td>\n",
              "    </tr>\n",
              "  </tbody>\n",
              "</table>\n",
              "</div>"
            ],
            "text/plain": [
              "      country  year  population\n",
              "48  Argentina  1952    17876956\n",
              "49  Argentina  1957    19610538\n",
              "50  Argentina  1962    21283783\n",
              "51  Argentina  1967    22934225\n",
              "52  Argentina  1972    24779799"
            ]
          },
          "metadata": {},
          "execution_count": 11
        }
      ]
    },
    {
      "cell_type": "code",
      "metadata": {
        "colab": {
          "base_uri": "https://localhost:8080/"
        },
        "id": "7rpFofV7_2L2",
        "outputId": "41848370-52cc-4bdf-84e7-8d4c3cbf950a"
      },
      "source": [
        "df_pop_ar.shape"
      ],
      "execution_count": 12,
      "outputs": [
        {
          "output_type": "execute_result",
          "data": {
            "text/plain": [
              "(12, 3)"
            ]
          },
          "metadata": {},
          "execution_count": 12
        }
      ]
    },
    {
      "cell_type": "code",
      "metadata": {
        "colab": {
          "base_uri": "https://localhost:8080/",
          "height": 323
        },
        "id": "EeM2H2g__3F_",
        "outputId": "2269cd8a-a571-453c-c2bb-ed591004e146"
      },
      "source": [
        "df_pop_ar.set_index('year').plot(kind='bar')"
      ],
      "execution_count": 13,
      "outputs": [
        {
          "output_type": "execute_result",
          "data": {
            "text/plain": [
              "<matplotlib.axes._subplots.AxesSubplot at 0x7fcb09216150>"
            ]
          },
          "metadata": {},
          "execution_count": 13
        },
        {
          "output_type": "display_data",
          "data": {
            "image/png": "[encoded data removed]",
            "text/plain": [
              "<Figure size 432x288 with 1 Axes>"
            ]
          },
          "metadata": {
            "needs_background": "light"
          }
        }
      ]
    },
    {
      "cell_type": "code",
      "metadata": {
        "colab": {
          "base_uri": "https://localhost:8080/",
          "height": 310
        },
        "id": "evtTr7q4AHv8",
        "outputId": "b4c7ba2f-11f4-469a-eab6-cd13113166d3"
      },
      "source": [
        "anios = df_pop_es['year'].unique()\n",
        "pop_ar = df_pop_ar['population'].values\n",
        "pop_es = df_pop_es['population'].values\n",
        "\n",
        "df_plot = pd.DataFrame({'Argentina': pop_ar,\n",
        "                    'Spain': pop_es}, \n",
        "                       index=anios)\n",
        "df_plot.plot(kind='bar')"
      ],
      "execution_count": 14,
      "outputs": [
        {
          "output_type": "execute_result",
          "data": {
            "text/plain": [
              "<matplotlib.axes._subplots.AxesSubplot at 0x7fcb091fdf90>"
            ]
          },
          "metadata": {},
          "execution_count": 14
        },
        {
          "output_type": "display_data",
          "data": {
            "image/png": "[encoded data removed]",
            "text/plain": [
              "<Figure size 432x288 with 1 Axes>"
            ]
          },
          "metadata": {
            "needs_background": "light"
          }
        }
      ]
    },
    {
      "cell_type": "code",
      "metadata": {
        "colab": {
          "base_uri": "https://localhost:8080/",
          "height": 1000
        },
        "id": "-PmKJ3Q9Aa09",
        "outputId": "77861084-be2b-413f-b0ff-00d2b91c1a2e"
      },
      "source": [
        "df_espanol = df.replace(np.nan, '', regex=True)\n",
        "df_espanol = df_espanol[ df_espanol['languages'].str.contains('es') ]\n",
        "df_espanol"
      ],
      "execution_count": 15,
      "outputs": [
        {
          "output_type": "execute_result",
          "data": {
            "text/html": [
              "<div>\n",
              "<style scoped>\n",
              "    .dataframe tbody tr th:only-of-type {\n",
              "        vertical-align: middle;\n",
              "    }\n",
              "\n",
              "    .dataframe tbody tr th {\n",
              "        vertical-align: top;\n",
              "    }\n",
              "\n",
              "    .dataframe thead th {\n",
              "        text-align: right;\n",
              "    }\n",
              "</style>\n",
              "<table border=\"1\" class=\"dataframe\">\n",
              "  <thead>\n",
              "    <tr style=\"text-align: right;\">\n",
              "      <th></th>\n",
              "      <th>alpha_2</th>\n",
              "      <th>alpha_3</th>\n",
              "      <th>area</th>\n",
              "      <th>capital</th>\n",
              "      <th>continent</th>\n",
              "      <th>currency_code</th>\n",
              "      <th>currency_name</th>\n",
              "      <th>eqivalent_fips_code</th>\n",
              "      <th>fips</th>\n",
              "      <th>geoname_id</th>\n",
              "      <th>languages</th>\n",
              "      <th>name</th>\n",
              "      <th>neighbours</th>\n",
              "      <th>numeric</th>\n",
              "      <th>phone</th>\n",
              "      <th>population</th>\n",
              "      <th>postal_code_format</th>\n",
              "      <th>postal_code_regex</th>\n",
              "      <th>tld</th>\n",
              "    </tr>\n",
              "  </thead>\n",
              "  <tbody>\n",
              "    <tr>\n",
              "      <th>9</th>\n",
              "      <td>AR</td>\n",
              "      <td>ARG</td>\n",
              "      <td>2766890.0</td>\n",
              "      <td>Buenos Aires</td>\n",
              "      <td>SA</td>\n",
              "      <td>ARS</td>\n",
              "      <td>Peso</td>\n",
              "      <td></td>\n",
              "      <td>AR</td>\n",
              "      <td>3865483</td>\n",
              "      <td>es-AR,en,it,de,fr,gn</td>\n",
              "      <td>Argentina</td>\n",
              "      <td>CL,BO,UY,PY,BR</td>\n",
              "      <td>32</td>\n",
              "      <td>54</td>\n",
              "      <td>41343201</td>\n",
              "      <td>@####@@@</td>\n",
              "      <td>^[A-Z]?\\d{4}[A-Z]{0,3}$</td>\n",
              "      <td>.ar</td>\n",
              "    </tr>\n",
              "    <tr>\n",
              "      <th>13</th>\n",
              "      <td>AW</td>\n",
              "      <td>ABW</td>\n",
              "      <td>193.0</td>\n",
              "      <td>Oranjestad</td>\n",
              "      <td></td>\n",
              "      <td>AWG</td>\n",
              "      <td>Guilder</td>\n",
              "      <td></td>\n",
              "      <td>AA</td>\n",
              "      <td>3577279</td>\n",
              "      <td>nl-AW,es,en</td>\n",
              "      <td>Aruba</td>\n",
              "      <td></td>\n",
              "      <td>533</td>\n",
              "      <td>297</td>\n",
              "      <td>71566</td>\n",
              "      <td></td>\n",
              "      <td></td>\n",
              "      <td>.aw</td>\n",
              "    </tr>\n",
              "    <tr>\n",
              "      <th>28</th>\n",
              "      <td>BO</td>\n",
              "      <td>BOL</td>\n",
              "      <td>1098580.0</td>\n",
              "      <td>Sucre</td>\n",
              "      <td>SA</td>\n",
              "      <td>BOB</td>\n",
              "      <td>Boliviano</td>\n",
              "      <td></td>\n",
              "      <td>BL</td>\n",
              "      <td>3923057</td>\n",
              "      <td>es-BO,qu,ay</td>\n",
              "      <td>Bolivia</td>\n",
              "      <td>PE,CL,PY,BR,AR</td>\n",
              "      <td>68</td>\n",
              "      <td>591</td>\n",
              "      <td>9947418</td>\n",
              "      <td></td>\n",
              "      <td></td>\n",
              "      <td>.bo</td>\n",
              "    </tr>\n",
              "    <tr>\n",
              "      <th>30</th>\n",
              "      <td>BR</td>\n",
              "      <td>BRA</td>\n",
              "      <td>8511965.0</td>\n",
              "      <td>Brasilia</td>\n",
              "      <td>SA</td>\n",
              "      <td>BRL</td>\n",
              "      <td>Real</td>\n",
              "      <td></td>\n",
              "      <td>BR</td>\n",
              "      <td>3469034</td>\n",
              "      <td>pt-BR,es,en,fr</td>\n",
              "      <td>Brazil</td>\n",
              "      <td>SR,PE,BO,UY,GY,PY,GF,VE,CO,AR</td>\n",
              "      <td>76</td>\n",
              "      <td>55</td>\n",
              "      <td>201103330</td>\n",
              "      <td>#####-###</td>\n",
              "      <td>^\\d{5}-\\d{3}$</td>\n",
              "      <td>.br</td>\n",
              "    </tr>\n",
              "    <tr>\n",
              "      <th>36</th>\n",
              "      <td>BZ</td>\n",
              "      <td>BLZ</td>\n",
              "      <td>22966.0</td>\n",
              "      <td>Belmopan</td>\n",
              "      <td></td>\n",
              "      <td>BZD</td>\n",
              "      <td>Dollar</td>\n",
              "      <td></td>\n",
              "      <td>BH</td>\n",
              "      <td>3582678</td>\n",
              "      <td>en-BZ,es</td>\n",
              "      <td>Belize</td>\n",
              "      <td>GT,MX</td>\n",
              "      <td>84</td>\n",
              "      <td>501</td>\n",
              "      <td>314522</td>\n",
              "      <td></td>\n",
              "      <td></td>\n",
              "      <td>.bz</td>\n",
              "    </tr>\n",
              "    <tr>\n",
              "      <th>45</th>\n",
              "      <td>CL</td>\n",
              "      <td>CHL</td>\n",
              "      <td>756950.0</td>\n",
              "      <td>Santiago</td>\n",
              "      <td>SA</td>\n",
              "      <td>CLP</td>\n",
              "      <td>Peso</td>\n",
              "      <td></td>\n",
              "      <td>CI</td>\n",
              "      <td>3895114</td>\n",
              "      <td>es-CL</td>\n",
              "      <td>Chile</td>\n",
              "      <td>PE,BO,AR</td>\n",
              "      <td>152</td>\n",
              "      <td>56</td>\n",
              "      <td>16746491</td>\n",
              "      <td>#######</td>\n",
              "      <td>^(\\d{7})$</td>\n",
              "      <td>.cl</td>\n",
              "    </tr>\n",
              "    <tr>\n",
              "      <th>48</th>\n",
              "      <td>CO</td>\n",
              "      <td>COL</td>\n",
              "      <td>1138910.0</td>\n",
              "      <td>Bogota</td>\n",
              "      <td>SA</td>\n",
              "      <td>COP</td>\n",
              "      <td>Peso</td>\n",
              "      <td></td>\n",
              "      <td>CO</td>\n",
              "      <td>3686110</td>\n",
              "      <td>es-CO</td>\n",
              "      <td>Colombia</td>\n",
              "      <td>EC,PE,PA,BR,VE</td>\n",
              "      <td>170</td>\n",
              "      <td>57</td>\n",
              "      <td>47790000</td>\n",
              "      <td></td>\n",
              "      <td></td>\n",
              "      <td>.co</td>\n",
              "    </tr>\n",
              "    <tr>\n",
              "      <th>49</th>\n",
              "      <td>CR</td>\n",
              "      <td>CRI</td>\n",
              "      <td>51100.0</td>\n",
              "      <td>San Jose</td>\n",
              "      <td></td>\n",
              "      <td>CRC</td>\n",
              "      <td>Colon</td>\n",
              "      <td></td>\n",
              "      <td>CS</td>\n",
              "      <td>3624060</td>\n",
              "      <td>es-CR,en</td>\n",
              "      <td>Costa Rica</td>\n",
              "      <td>PA,NI</td>\n",
              "      <td>188</td>\n",
              "      <td>506</td>\n",
              "      <td>4516220</td>\n",
              "      <td>####</td>\n",
              "      <td>^(\\d{4})$</td>\n",
              "      <td>.cr</td>\n",
              "    </tr>\n",
              "    <tr>\n",
              "      <th>50</th>\n",
              "      <td>CU</td>\n",
              "      <td>CUB</td>\n",
              "      <td>110860.0</td>\n",
              "      <td>Havana</td>\n",
              "      <td></td>\n",
              "      <td>CUP</td>\n",
              "      <td>Peso</td>\n",
              "      <td></td>\n",
              "      <td>CU</td>\n",
              "      <td>3562981</td>\n",
              "      <td>es-CU</td>\n",
              "      <td>Cuba</td>\n",
              "      <td>US</td>\n",
              "      <td>192</td>\n",
              "      <td>53</td>\n",
              "      <td>11423000</td>\n",
              "      <td>CP #####</td>\n",
              "      <td>^(?:CP)*(\\d{5})$</td>\n",
              "      <td>.cu</td>\n",
              "    </tr>\n",
              "    <tr>\n",
              "      <th>60</th>\n",
              "      <td>DO</td>\n",
              "      <td>DOM</td>\n",
              "      <td>48730.0</td>\n",
              "      <td>Santo Domingo</td>\n",
              "      <td></td>\n",
              "      <td>DOP</td>\n",
              "      <td>Peso</td>\n",
              "      <td></td>\n",
              "      <td>DR</td>\n",
              "      <td>3508796</td>\n",
              "      <td>es-DO</td>\n",
              "      <td>Dominican Republic</td>\n",
              "      <td>HT</td>\n",
              "      <td>214</td>\n",
              "      <td>+1-809 and 1-829</td>\n",
              "      <td>9823821</td>\n",
              "      <td>#####</td>\n",
              "      <td>^(\\d{5})$</td>\n",
              "      <td>.do</td>\n",
              "    </tr>\n",
              "    <tr>\n",
              "      <th>62</th>\n",
              "      <td>EC</td>\n",
              "      <td>ECU</td>\n",
              "      <td>283560.0</td>\n",
              "      <td>Quito</td>\n",
              "      <td>SA</td>\n",
              "      <td>USD</td>\n",
              "      <td>Dollar</td>\n",
              "      <td></td>\n",
              "      <td>EC</td>\n",
              "      <td>3658394</td>\n",
              "      <td>es-EC</td>\n",
              "      <td>Ecuador</td>\n",
              "      <td>PE,CO</td>\n",
              "      <td>218</td>\n",
              "      <td>593</td>\n",
              "      <td>14790608</td>\n",
              "      <td>@####@</td>\n",
              "      <td>^([a-zA-Z]\\d{4}[a-zA-Z])$</td>\n",
              "      <td>.ec</td>\n",
              "    </tr>\n",
              "    <tr>\n",
              "      <th>67</th>\n",
              "      <td>ES</td>\n",
              "      <td>ESP</td>\n",
              "      <td>504782.0</td>\n",
              "      <td>Madrid</td>\n",
              "      <td>EU</td>\n",
              "      <td>EUR</td>\n",
              "      <td>Euro</td>\n",
              "      <td></td>\n",
              "      <td>SP</td>\n",
              "      <td>2510769</td>\n",
              "      <td>es-ES,ca,gl,eu,oc</td>\n",
              "      <td>Spain</td>\n",
              "      <td>AD,PT,GI,FR,MA</td>\n",
              "      <td>724</td>\n",
              "      <td>34</td>\n",
              "      <td>46505963</td>\n",
              "      <td>#####</td>\n",
              "      <td>^(\\d{5})$</td>\n",
              "      <td>.es</td>\n",
              "    </tr>\n",
              "    <tr>\n",
              "      <th>82</th>\n",
              "      <td>GI</td>\n",
              "      <td>GIB</td>\n",
              "      <td>6.5</td>\n",
              "      <td>Gibraltar</td>\n",
              "      <td>EU</td>\n",
              "      <td>GIP</td>\n",
              "      <td>Pound</td>\n",
              "      <td></td>\n",
              "      <td>GI</td>\n",
              "      <td>2411586</td>\n",
              "      <td>en-GI,es,it,pt</td>\n",
              "      <td>Gibraltar</td>\n",
              "      <td>ES</td>\n",
              "      <td>292</td>\n",
              "      <td>350</td>\n",
              "      <td>27884</td>\n",
              "      <td></td>\n",
              "      <td></td>\n",
              "      <td>.gi</td>\n",
              "    </tr>\n",
              "    <tr>\n",
              "      <th>87</th>\n",
              "      <td>GQ</td>\n",
              "      <td>GNQ</td>\n",
              "      <td>28051.0</td>\n",
              "      <td>Malabo</td>\n",
              "      <td>AF</td>\n",
              "      <td>XAF</td>\n",
              "      <td>Franc</td>\n",
              "      <td></td>\n",
              "      <td>EK</td>\n",
              "      <td>2309096</td>\n",
              "      <td>es-GQ,fr</td>\n",
              "      <td>Equatorial Guinea</td>\n",
              "      <td>GA,CM</td>\n",
              "      <td>226</td>\n",
              "      <td>240</td>\n",
              "      <td>1014999</td>\n",
              "      <td></td>\n",
              "      <td></td>\n",
              "      <td>.gq</td>\n",
              "    </tr>\n",
              "    <tr>\n",
              "      <th>90</th>\n",
              "      <td>GT</td>\n",
              "      <td>GTM</td>\n",
              "      <td>108890.0</td>\n",
              "      <td>Guatemala City</td>\n",
              "      <td></td>\n",
              "      <td>GTQ</td>\n",
              "      <td>Quetzal</td>\n",
              "      <td></td>\n",
              "      <td>GT</td>\n",
              "      <td>3595528</td>\n",
              "      <td>es-GT</td>\n",
              "      <td>Guatemala</td>\n",
              "      <td>MX,HN,BZ,SV</td>\n",
              "      <td>320</td>\n",
              "      <td>502</td>\n",
              "      <td>13550440</td>\n",
              "      <td>#####</td>\n",
              "      <td>^(\\d{5})$</td>\n",
              "      <td>.gt</td>\n",
              "    </tr>\n",
              "    <tr>\n",
              "      <th>96</th>\n",
              "      <td>HN</td>\n",
              "      <td>HND</td>\n",
              "      <td>112090.0</td>\n",
              "      <td>Tegucigalpa</td>\n",
              "      <td></td>\n",
              "      <td>HNL</td>\n",
              "      <td>Lempira</td>\n",
              "      <td></td>\n",
              "      <td>HO</td>\n",
              "      <td>3608932</td>\n",
              "      <td>es-HN</td>\n",
              "      <td>Honduras</td>\n",
              "      <td>GT,NI,SV</td>\n",
              "      <td>340</td>\n",
              "      <td>504</td>\n",
              "      <td>7989415</td>\n",
              "      <td>@@####</td>\n",
              "      <td>^([A-Z]{2}\\d{4})$</td>\n",
              "      <td>.hn</td>\n",
              "    </tr>\n",
              "    <tr>\n",
              "      <th>157</th>\n",
              "      <td>MX</td>\n",
              "      <td>MEX</td>\n",
              "      <td>1972550.0</td>\n",
              "      <td>Mexico City</td>\n",
              "      <td></td>\n",
              "      <td>MXN</td>\n",
              "      <td>Peso</td>\n",
              "      <td></td>\n",
              "      <td>MX</td>\n",
              "      <td>3996063</td>\n",
              "      <td>es-MX</td>\n",
              "      <td>Mexico</td>\n",
              "      <td>GT,US,BZ</td>\n",
              "      <td>484</td>\n",
              "      <td>52</td>\n",
              "      <td>112468855</td>\n",
              "      <td>#####</td>\n",
              "      <td>^(\\d{5})$</td>\n",
              "      <td>.mx</td>\n",
              "    </tr>\n",
              "    <tr>\n",
              "      <th>165</th>\n",
              "      <td>NI</td>\n",
              "      <td>NIC</td>\n",
              "      <td>129494.0</td>\n",
              "      <td>Managua</td>\n",
              "      <td></td>\n",
              "      <td>NIO</td>\n",
              "      <td>Cordoba</td>\n",
              "      <td></td>\n",
              "      <td>NU</td>\n",
              "      <td>3617476</td>\n",
              "      <td>es-NI,en</td>\n",
              "      <td>Nicaragua</td>\n",
              "      <td>CR,HN</td>\n",
              "      <td>558</td>\n",
              "      <td>505</td>\n",
              "      <td>5995928</td>\n",
              "      <td>###-###-#</td>\n",
              "      <td>^(\\d{7})$</td>\n",
              "      <td>.ni</td>\n",
              "    </tr>\n",
              "    <tr>\n",
              "      <th>173</th>\n",
              "      <td>PA</td>\n",
              "      <td>PAN</td>\n",
              "      <td>78200.0</td>\n",
              "      <td>Panama City</td>\n",
              "      <td></td>\n",
              "      <td>PAB</td>\n",
              "      <td>Balboa</td>\n",
              "      <td></td>\n",
              "      <td>PM</td>\n",
              "      <td>3703430</td>\n",
              "      <td>es-PA,en</td>\n",
              "      <td>Panama</td>\n",
              "      <td>CR,CO</td>\n",
              "      <td>591</td>\n",
              "      <td>507</td>\n",
              "      <td>3410676</td>\n",
              "      <td></td>\n",
              "      <td></td>\n",
              "      <td>.pa</td>\n",
              "    </tr>\n",
              "    <tr>\n",
              "      <th>174</th>\n",
              "      <td>PE</td>\n",
              "      <td>PER</td>\n",
              "      <td>1285220.0</td>\n",
              "      <td>Lima</td>\n",
              "      <td>SA</td>\n",
              "      <td>PEN</td>\n",
              "      <td>Sol</td>\n",
              "      <td></td>\n",
              "      <td>PE</td>\n",
              "      <td>3932488</td>\n",
              "      <td>es-PE,qu,ay</td>\n",
              "      <td>Peru</td>\n",
              "      <td>EC,CL,BO,BR,CO</td>\n",
              "      <td>604</td>\n",
              "      <td>51</td>\n",
              "      <td>29907003</td>\n",
              "      <td></td>\n",
              "      <td></td>\n",
              "      <td>.pe</td>\n",
              "    </tr>\n",
              "    <tr>\n",
              "      <th>182</th>\n",
              "      <td>PR</td>\n",
              "      <td>PRI</td>\n",
              "      <td>9104.0</td>\n",
              "      <td>San Juan</td>\n",
              "      <td></td>\n",
              "      <td>USD</td>\n",
              "      <td>Dollar</td>\n",
              "      <td></td>\n",
              "      <td>RQ</td>\n",
              "      <td>4566966</td>\n",
              "      <td>en-PR,es-PR</td>\n",
              "      <td>Puerto Rico</td>\n",
              "      <td></td>\n",
              "      <td>630</td>\n",
              "      <td>+1-787 and 1-939</td>\n",
              "      <td>3916632</td>\n",
              "      <td>#####-####</td>\n",
              "      <td>^00[679]\\d{2}(?:-\\d{4})?$</td>\n",
              "      <td>.pr</td>\n",
              "    </tr>\n",
              "    <tr>\n",
              "      <th>186</th>\n",
              "      <td>PY</td>\n",
              "      <td>PRY</td>\n",
              "      <td>406750.0</td>\n",
              "      <td>Asuncion</td>\n",
              "      <td>SA</td>\n",
              "      <td>PYG</td>\n",
              "      <td>Guarani</td>\n",
              "      <td></td>\n",
              "      <td>PA</td>\n",
              "      <td>3437598</td>\n",
              "      <td>es-PY,gn</td>\n",
              "      <td>Paraguay</td>\n",
              "      <td>BO,BR,AR</td>\n",
              "      <td>600</td>\n",
              "      <td>595</td>\n",
              "      <td>6375830</td>\n",
              "      <td>####</td>\n",
              "      <td>^(\\d{4})$</td>\n",
              "      <td>.py</td>\n",
              "    </tr>\n",
              "    <tr>\n",
              "      <th>187</th>\n",
              "      <td>QA</td>\n",
              "      <td>QAT</td>\n",
              "      <td>11437.0</td>\n",
              "      <td>Doha</td>\n",
              "      <td>AS</td>\n",
              "      <td>QAR</td>\n",
              "      <td>Rial</td>\n",
              "      <td></td>\n",
              "      <td>QA</td>\n",
              "      <td>289688</td>\n",
              "      <td>ar-QA,es</td>\n",
              "      <td>Qatar</td>\n",
              "      <td>SA</td>\n",
              "      <td>634</td>\n",
              "      <td>974</td>\n",
              "      <td>840926</td>\n",
              "      <td></td>\n",
              "      <td></td>\n",
              "      <td>.qa</td>\n",
              "    </tr>\n",
              "    <tr>\n",
              "      <th>210</th>\n",
              "      <td>SV</td>\n",
              "      <td>SLV</td>\n",
              "      <td>21040.0</td>\n",
              "      <td>San Salvador</td>\n",
              "      <td></td>\n",
              "      <td>USD</td>\n",
              "      <td>Dollar</td>\n",
              "      <td></td>\n",
              "      <td>ES</td>\n",
              "      <td>3585968</td>\n",
              "      <td>es-SV</td>\n",
              "      <td>El Salvador</td>\n",
              "      <td>GT,HN</td>\n",
              "      <td>222</td>\n",
              "      <td>503</td>\n",
              "      <td>6052064</td>\n",
              "      <td>CP ####</td>\n",
              "      <td>^(?:CP)*(\\d{4})$</td>\n",
              "      <td>.sv</td>\n",
              "    </tr>\n",
              "    <tr>\n",
              "      <th>226</th>\n",
              "      <td>TT</td>\n",
              "      <td>TTO</td>\n",
              "      <td>5128.0</td>\n",
              "      <td>Port of Spain</td>\n",
              "      <td></td>\n",
              "      <td>TTD</td>\n",
              "      <td>Dollar</td>\n",
              "      <td></td>\n",
              "      <td>TD</td>\n",
              "      <td>3573591</td>\n",
              "      <td>en-TT,hns,fr,es,zh</td>\n",
              "      <td>Trinidad and Tobago</td>\n",
              "      <td></td>\n",
              "      <td>780</td>\n",
              "      <td>+1-868</td>\n",
              "      <td>1228691</td>\n",
              "      <td></td>\n",
              "      <td></td>\n",
              "      <td>.tt</td>\n",
              "    </tr>\n",
              "    <tr>\n",
              "      <th>233</th>\n",
              "      <td>US</td>\n",
              "      <td>USA</td>\n",
              "      <td>9629091.0</td>\n",
              "      <td>Washington</td>\n",
              "      <td></td>\n",
              "      <td>USD</td>\n",
              "      <td>Dollar</td>\n",
              "      <td></td>\n",
              "      <td>US</td>\n",
              "      <td>6252001</td>\n",
              "      <td>en-US,es-US,haw,fr</td>\n",
              "      <td>United States</td>\n",
              "      <td>CA,MX,CU</td>\n",
              "      <td>840</td>\n",
              "      <td>1</td>\n",
              "      <td>310232863</td>\n",
              "      <td>#####-####</td>\n",
              "      <td>^\\d{5}(-\\d{4})?$</td>\n",
              "      <td>.us</td>\n",
              "    </tr>\n",
              "    <tr>\n",
              "      <th>234</th>\n",
              "      <td>UY</td>\n",
              "      <td>URY</td>\n",
              "      <td>176220.0</td>\n",
              "      <td>Montevideo</td>\n",
              "      <td>SA</td>\n",
              "      <td>UYU</td>\n",
              "      <td>Peso</td>\n",
              "      <td></td>\n",
              "      <td>UY</td>\n",
              "      <td>3439705</td>\n",
              "      <td>es-UY</td>\n",
              "      <td>Uruguay</td>\n",
              "      <td>BR,AR</td>\n",
              "      <td>858</td>\n",
              "      <td>598</td>\n",
              "      <td>3477000</td>\n",
              "      <td>#####</td>\n",
              "      <td>^(\\d{5})$</td>\n",
              "      <td>.uy</td>\n",
              "    </tr>\n",
              "    <tr>\n",
              "      <th>238</th>\n",
              "      <td>VE</td>\n",
              "      <td>VEN</td>\n",
              "      <td>912050.0</td>\n",
              "      <td>Caracas</td>\n",
              "      <td>SA</td>\n",
              "      <td>VEF</td>\n",
              "      <td>Bolivar</td>\n",
              "      <td></td>\n",
              "      <td>VE</td>\n",
              "      <td>3625428</td>\n",
              "      <td>es-VE</td>\n",
              "      <td>Venezuela</td>\n",
              "      <td>GY,BR,CO</td>\n",
              "      <td>862</td>\n",
              "      <td>58</td>\n",
              "      <td>27223228</td>\n",
              "      <td>####</td>\n",
              "      <td>^(\\d{4})$</td>\n",
              "      <td>.ve</td>\n",
              "    </tr>\n",
              "    <tr>\n",
              "      <th>251</th>\n",
              "      <td>AN</td>\n",
              "      <td>ANT</td>\n",
              "      <td>960.0</td>\n",
              "      <td>Willemstad</td>\n",
              "      <td></td>\n",
              "      <td>ANG</td>\n",
              "      <td>Guilder</td>\n",
              "      <td></td>\n",
              "      <td>NT</td>\n",
              "      <td>8505032</td>\n",
              "      <td>nl-AN,en,es</td>\n",
              "      <td>Netherlands Antilles</td>\n",
              "      <td>GP</td>\n",
              "      <td>530</td>\n",
              "      <td>599</td>\n",
              "      <td>300000</td>\n",
              "      <td></td>\n",
              "      <td></td>\n",
              "      <td>.an</td>\n",
              "    </tr>\n",
              "  </tbody>\n",
              "</table>\n",
              "</div>"
            ],
            "text/plain": [
              "    alpha_2 alpha_3  ...          postal_code_regex  tld\n",
              "9        AR     ARG  ...    ^[A-Z]?\\d{4}[A-Z]{0,3}$  .ar\n",
              "13       AW     ABW  ...                             .aw\n",
              "28       BO     BOL  ...                             .bo\n",
              "30       BR     BRA  ...              ^\\d{5}-\\d{3}$  .br\n",
              "36       BZ     BLZ  ...                             .bz\n",
              "45       CL     CHL  ...                  ^(\\d{7})$  .cl\n",
              "48       CO     COL  ...                             .co\n",
              "49       CR     CRI  ...                  ^(\\d{4})$  .cr\n",
              "50       CU     CUB  ...           ^(?:CP)*(\\d{5})$  .cu\n",
              "60       DO     DOM  ...                  ^(\\d{5})$  .do\n",
              "62       EC     ECU  ...  ^([a-zA-Z]\\d{4}[a-zA-Z])$  .ec\n",
              "67       ES     ESP  ...                  ^(\\d{5})$  .es\n",
              "82       GI     GIB  ...                             .gi\n",
              "87       GQ     GNQ  ...                             .gq\n",
              "90       GT     GTM  ...                  ^(\\d{5})$  .gt\n",
              "96       HN     HND  ...          ^([A-Z]{2}\\d{4})$  .hn\n",
              "157      MX     MEX  ...                  ^(\\d{5})$  .mx\n",
              "165      NI     NIC  ...                  ^(\\d{7})$  .ni\n",
              "173      PA     PAN  ...                             .pa\n",
              "174      PE     PER  ...                             .pe\n",
              "182      PR     PRI  ...  ^00[679]\\d{2}(?:-\\d{4})?$  .pr\n",
              "186      PY     PRY  ...                  ^(\\d{4})$  .py\n",
              "187      QA     QAT  ...                             .qa\n",
              "210      SV     SLV  ...           ^(?:CP)*(\\d{4})$  .sv\n",
              "226      TT     TTO  ...                             .tt\n",
              "233      US     USA  ...           ^\\d{5}(-\\d{4})?$  .us\n",
              "234      UY     URY  ...                  ^(\\d{5})$  .uy\n",
              "238      VE     VEN  ...                  ^(\\d{4})$  .ve\n",
              "251      AN     ANT  ...                             .an\n",
              "\n",
              "[29 rows x 19 columns]"
            ]
          },
          "metadata": {},
          "execution_count": 15
        }
      ]
    },
    {
      "cell_type": "code",
      "metadata": {
        "id": "rDTrwtO4A4DS"
      },
      "source": [
        "df_espanol.shape"
      ],
      "execution_count": null,
      "outputs": []
    },
    {
      "cell_type": "code",
      "metadata": {
        "id": "FnKUieLLBG2f"
      },
      "source": [
        "df_espanol.set_index('alpha_3')[['population','area']].plot(kind='bar',rot=65,figsize=(20,10))"
      ],
      "execution_count": null,
      "outputs": []
    },
    {
      "cell_type": "code",
      "metadata": {
        "id": "sO6P2fwCBIht"
      },
      "source": [
        "anomalies = []\n",
        "\n",
        "# Funcion ejemplo para detección de outliers\n",
        "def find_anomalies(data):\n",
        "    # Set upper and lower limit to 2 standard deviation\n",
        "    data_std = data.std()\n",
        "    data_mean = data.mean()\n",
        "    anomaly_cut_off = data_std * 2\n",
        "    lower_limit  = data_mean - anomaly_cut_off \n",
        "    upper_limit = data_mean + anomaly_cut_off\n",
        "    print(lower_limit.iloc[0])\n",
        "    print(upper_limit.iloc[0])\n",
        "\n",
        "    # Generate outliers\n",
        "    for index, row in data.iterrows():\n",
        "        outlier = row # # obtener primer columna\n",
        "        # print(outlier)\n",
        "        if (outlier.iloc[0] > upper_limit.iloc[0]) or (outlier.iloc[0] < lower_limit.iloc[0]):\n",
        "            anomalies.append(index)\n",
        "    return anomalies\n",
        "\n",
        "find_anomalies(df_espanol.set_index('alpha_3')[['population']])"
      ],
      "execution_count": null,
      "outputs": []
    },
    {
      "cell_type": "code",
      "metadata": {
        "id": "tkLAznDgBJbA"
      },
      "source": [
        "# Quitemos BRA y USA por ser outlies y volvamos a graficar:\n",
        "df_espanol.drop([30,233], inplace=True)"
      ],
      "execution_count": null,
      "outputs": []
    },
    {
      "cell_type": "code",
      "metadata": {
        "id": "ulsr64sLBKN7"
      },
      "source": [
        "df_espanol.set_index('alpha_3')[['population','area']].plot(kind='bar',rot=65,figsize=(20,10))"
      ],
      "execution_count": null,
      "outputs": []
    },
    {
      "cell_type": "code",
      "metadata": {
        "id": "uplW96FQBLHz"
      },
      "source": [
        "df_espanol.set_index('alpha_3')[['population','area']].sort_values([\"population\"]).plot(kind='bar',rot=65,figsize=(20,10))"
      ],
      "execution_count": null,
      "outputs": []
    },
    {
      "cell_type": "code",
      "metadata": {
        "id": "juwBi-xWBMRM"
      },
      "source": [
        "4df_espanol.set_index('alpha_3')[['area']].sort_values([\"area\"]).plot(kind='bar',rot=65,figsize=(20,10))"
      ],
      "execution_count": null,
      "outputs": []
    },
    {
      "cell_type": "code",
      "metadata": {
        "id": "kQGJGPaaBNwG"
      },
      "source": [
        "# En este caso, podriamos quitar por \"lo bajo\", area menor a 110.000 km2:\n",
        "df_2 = df_espanol.set_index('alpha_3')\n",
        "df_2 = df_2[df_2['area'] > 110000]\n",
        "df_2"
      ],
      "execution_count": null,
      "outputs": []
    },
    {
      "cell_type": "code",
      "metadata": {
        "id": "4mhWEEOcBPHi"
      },
      "source": [
        "df_2[['area']].sort_values([\"area\"]).plot(kind='bar',rot=65,figsize=(20,10))"
      ],
      "execution_count": null,
      "outputs": []
    },
    {
      "cell_type": "code",
      "metadata": {
        "id": "8ILlT1F2BQJM"
      },
      "source": [
        ""
      ],
      "execution_count": null,
      "outputs": []
    }
  ]
}